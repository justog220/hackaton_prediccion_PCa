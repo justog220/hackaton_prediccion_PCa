{
 "cells": [
  {
   "cell_type": "markdown",
   "id": "66f14a70",
   "metadata": {},
   "source": [
    "# 03. Feature Selection"
   ]
  },
  {
   "cell_type": "code",
   "execution_count": 24,
   "id": "3ce43a57",
   "metadata": {},
   "outputs": [
    {
     "name": "stdout",
     "output_type": "stream",
     "text": [
      "<class 'pandas.core.frame.DataFrame'>\n",
      "Index: 191 entries, CM.1.0001.1 to GSM1817999\n",
      "Columns: 19021 entries, RPS28 to grado_histologico\n",
      "dtypes: float64(19020), int64(1)\n",
      "memory usage: 27.7+ MB\n"
     ]
    }
   ],
   "source": [
    "import pandas as pd\n",
    "\n",
    "file_cleaned = \"../data/interim/cleaning/data_without_na_scaled.csv\"\n",
    "\n",
    "df = pd.read_csv(file_cleaned, index_col=0)\n",
    "df.drop(columns=[\"cohorte\"], inplace=True)\n",
    "\n",
    "df.info()"
   ]
  },
  {
   "cell_type": "markdown",
   "id": "1e43010e",
   "metadata": {},
   "source": [
    "## Removing features with low variance"
   ]
  },
  {
   "cell_type": "code",
   "execution_count": 13,
   "id": "0193cdee",
   "metadata": {},
   "outputs": [],
   "source": [
    "import numpy as np\n",
    "\n",
    "variances = df.iloc[:, :-2].var()\n",
    "threshold = np.percentile(variances, 20)  # drop bottom 20%\n",
    "selected_genes = variances[variances > threshold].index\n",
    "\n",
    "df_var = df[selected_genes.tolist() + ['relapse', 'grado_histologico']]"
   ]
  },
  {
   "cell_type": "code",
   "execution_count": 14,
   "id": "083b1069",
   "metadata": {},
   "outputs": [
    {
     "name": "stdout",
     "output_type": "stream",
     "text": [
      "<class 'pandas.core.frame.DataFrame'>\n",
      "Index: 191 entries, CM.1.0001.1 to GSM1817999\n",
      "Columns: 13633 entries, RPS28 to grado_histologico\n",
      "dtypes: float64(13632), int64(1)\n",
      "memory usage: 19.9+ MB\n"
     ]
    }
   ],
   "source": [
    "df_var.info()"
   ]
  },
  {
   "cell_type": "code",
   "execution_count": 15,
   "id": "91218378",
   "metadata": {},
   "outputs": [
    {
     "name": "stdout",
     "output_type": "stream",
     "text": [
      "Automatic variance threshold (elbow method): 1.005263\n",
      "Number of genes selected: 2\n"
     ]
    }
   ],
   "source": [
    "import numpy as np\n",
    "import matplotlib.pyplot as plt\n",
    "from kneed import KneeLocator\n",
    "\n",
    "variances = df.iloc[:, :-2].var()\n",
    "sorted_var = np.sort(variances.values)\n",
    "\n",
    "knee = KneeLocator(range(len(sorted_var)), sorted_var, curve='convex', direction='increasing').knee\n",
    "threshold = sorted_var[knee]\n",
    "print(f\"Automatic variance threshold (elbow method): {threshold:.6f}\")\n",
    "\n",
    "selected_genes = variances[variances > threshold].index\n",
    "\n",
    "print(f\"Number of genes selected: {len(selected_genes)}\")"
   ]
  },
  {
   "cell_type": "markdown",
   "id": "b42ab853",
   "metadata": {},
   "source": [
    "By the elbow method there are only two selected genes. Also from [01. Exploration.ipynb](../notebooks/01_Exploration.ipynb)"
   ]
  },
  {
   "cell_type": "markdown",
   "id": "7c3e964e-3e46-4994-b268-0421e487d094",
   "metadata": {},
   "source": [
    "## XGBoost"
   ]
  },
  {
   "cell_type": "code",
   "execution_count": 21,
   "id": "fdb91a08",
   "metadata": {},
   "outputs": [
    {
     "name": "stdout",
     "output_type": "stream",
     "text": [
      "Number of XGBoost-selected features: 19020\n"
     ]
    },
    {
     "name": "stderr",
     "output_type": "stream",
     "text": [
      "/home/justo/miniconda3/envs/hackaton-pca/lib/python3.12/site-packages/sklearn/utils/validation.py:2742: UserWarning: X has feature names, but SelectFromModel was fitted without feature names\n",
      "  warnings.warn(\n"
     ]
    }
   ],
   "source": [
    "import xgboost as xgb\n",
    "from sklearn.feature_selection import SelectFromModel\n",
    "\n",
    "X = df.drop(columns=['relapse'])\n",
    "y = df['relapse']\n",
    "\n",
    "SEED = 1\n",
    "model = xgb.XGBClassifier(\n",
    "    n_estimators=500,\n",
    "    max_depth=3,\n",
    "    learning_rate=0.05,\n",
    "    subsample=0.8,\n",
    "    colsample_bytree=0.8,\n",
    "    random_state=SEED\n",
    ")\n",
    "model.fit(X, y)\n",
    "\n",
    "selector = SelectFromModel(model, prefit=True, threshold='median')\n",
    "\n",
    "X_selected = selector.transform(X)\n",
    "selected_features = X.columns[selector.get_support()]\n",
    "print(f\"Number of XGBoost-selected features: {len(selected_features)}\")"
   ]
  },
  {
   "cell_type": "code",
   "execution_count": 22,
   "id": "79c5dfa5-c17b-4b61-8ec0-cda4931345d5",
   "metadata": {},
   "outputs": [
    {
     "data": {
      "text/plain": [
       "Index(['RPS28', 'IPO13', 'FAM86FP', 'CDT1', 'CCNE2', 'BORCS5', 'SNIP1',\n",
       "       'COL17A1', 'BCL6B', 'ATP13A4',\n",
       "       ...\n",
       "       'MIR551B', 'MIR643', 'MIRLET7A1', 'SNORD114.13', 'MIR335', 'MIR663B',\n",
       "       'MIR320C1', 'LINC00293', 'LINC00173', 'grado_histologico'],\n",
       "      dtype='object', length=19020)"
      ]
     },
     "execution_count": 22,
     "metadata": {},
     "output_type": "execute_result"
    }
   ],
   "source": [
    "selected_features"
   ]
  },
  {
   "cell_type": "markdown",
   "id": "6568e6f0",
   "metadata": {},
   "source": [
    "## Differential expression\n",
    "\n",
    "Made with limma in R, see [03.1_Differential_expression.Rmd](03.1_Differential_expression.Rmd)"
   ]
  },
  {
   "cell_type": "code",
   "execution_count": null,
   "id": "55863bf1-eac5-4ae0-8595-522378b856aa",
   "metadata": {},
   "outputs": [],
   "source": []
  }
 ],
 "metadata": {
  "kernelspec": {
   "display_name": "hackaton-pca",
   "language": "python",
   "name": "python3"
  },
  "language_info": {
   "codemirror_mode": {
    "name": "ipython",
    "version": 3
   },
   "file_extension": ".py",
   "mimetype": "text/x-python",
   "name": "python",
   "nbconvert_exporter": "python",
   "pygments_lexer": "ipython3",
   "version": "3.12.11"
  }
 },
 "nbformat": 4,
 "nbformat_minor": 5
}
